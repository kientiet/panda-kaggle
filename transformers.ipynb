{
 "cells": [
  {
   "cell_type": "markdown",
   "metadata": {},
   "source": [
    "# Import package"
   ]
  },
  {
   "cell_type": "code",
   "execution_count": 1,
   "metadata": {},
   "outputs": [],
   "source": [
    "import os\n",
    "import torch\n",
    "import pandas as pd\n",
    "import numpy as np\n",
    "import pytorch_lightning as pl\n",
    "from pytorch_lightning import loggers\n",
    "from pytorch_lightning.callbacks import ModelCheckpoint"
   ]
  },
  {
   "cell_type": "code",
   "execution_count": 2,
   "metadata": {},
   "outputs": [],
   "source": [
    "%load_ext autoreload\n",
    "%autoreload 2"
   ]
  },
  {
   "cell_type": "markdown",
   "metadata": {},
   "source": [
    "# Setup environment"
   ]
  },
  {
   "cell_type": "code",
   "execution_count": 3,
   "metadata": {},
   "outputs": [
    {
     "data": {
      "text/plain": [
       "('GeForce GTX 1080 Ti', ('10.92', 'gigabytes'))"
      ]
     },
     "execution_count": 3,
     "metadata": {},
     "output_type": "execute_result"
    }
   ],
   "source": [
    "device = \"cuda\" if torch.cuda.is_available else \"cpu\"\n",
    "\n",
    "def format_bytes(size):\n",
    "    # 2**10 = 1024\n",
    "    power = 2**10\n",
    "    n = 0\n",
    "    power_labels = {0 : '', 1: 'kilo', 2: 'mega', 3: 'giga', 4: 'tera'}\n",
    "    while size > power:\n",
    "        size /= power\n",
    "        n += 1\n",
    "    return \"%.2f\" % size, power_labels[n] + 'bytes'\n",
    "\n",
    "torch.cuda.get_device_name(), format_bytes(torch.cuda.get_device_properties(device).total_memory)"
   ]
  },
  {
   "cell_type": "markdown",
   "metadata": {},
   "source": [
    "# Load model"
   ]
  },
  {
   "cell_type": "code",
   "execution_count": 4,
   "metadata": {},
   "outputs": [],
   "source": [
    "from preprocessing.load_dataset import PandaDataset"
   ]
  },
  {
   "cell_type": "code",
   "execution_count": 5,
   "metadata": {},
   "outputs": [
    {
     "name": "stdout",
     "output_type": "stream",
     "text": [
      ">> Load from data frame\n"
     ]
    },
    {
     "name": "stderr",
     "output_type": "stream",
     "text": [
      "Using cache found in /home/kientiet/.cache/torch/hub/facebookresearch_semi-supervised-ImageNet1K-models_master\n"
     ]
    }
   ],
   "source": [
    "from trainer.supervised.transformers import TransformersTrainer\n",
    "model = TransformersTrainer()\n",
    "max_epoches = model.get_max_epoches()"
   ]
  },
  {
   "cell_type": "code",
   "execution_count": 6,
   "metadata": {},
   "outputs": [
    {
     "data": {
      "text/plain": [
       "'/home/kientiet/Documents/My Project/python/panda-kaggle/checkpoint/resnet50_32x4d + attention in batch'"
      ]
     },
     "execution_count": 6,
     "metadata": {},
     "output_type": "execute_result"
    }
   ],
   "source": [
    "checkpoint_path = os.path.join(os.getcwd(), \"checkpoint\", model.model_name)\n",
    "checkpoint_callback = ModelCheckpoint(\n",
    "    filepath = checkpoint_path,\n",
    "    save_top_k = 5,\n",
    "    verbose = True,\n",
    "    monitor = 'kappa_score',\n",
    "    mode = 'max'\n",
    ")\n",
    "\n",
    "checkpoint_path"
   ]
  },
  {
   "cell_type": "code",
   "execution_count": 7,
   "metadata": {},
   "outputs": [
    {
     "name": "stderr",
     "output_type": "stream",
     "text": [
      "INFO:lightning:GPU available: True, used: True\n",
      "INFO:lightning:CUDA_VISIBLE_DEVICES: [0]\n"
     ]
    }
   ],
   "source": [
    "tb_logger = loggers.TensorBoardLogger('logs/', name = model.model_name)\n",
    "trainer = pl.Trainer(checkpoint_callback = checkpoint_callback,\n",
    "                    nb_sanity_val_steps = 0, \n",
    "                    max_epochs = max_epoches, \n",
    "                    gpus = -1, \n",
    "                    logger = tb_logger)"
   ]
  },
  {
   "cell_type": "markdown",
   "metadata": {},
   "source": [
    "# Learning finder"
   ]
  },
  {
   "cell_type": "code",
   "execution_count": 8,
   "metadata": {},
   "outputs": [
    {
     "name": "stderr",
     "output_type": "stream",
     "text": [
      "INFO:lightning:\n",
      "    | Name                                                               | Type                    | Params\n",
      "-----------------------------------------------------------------------------------------------------------\n",
      "0   | loss_func                                                          | BCELoss                 | 0     \n",
      "1   | encoder                                                            | ResNetModel             | 11 M  \n",
      "2   | encoder.encoder                                                    | Sequential              | 11 M  \n",
      "3   | encoder.encoder.0                                                  | Conv2d                  | 9 K   \n",
      "4   | encoder.encoder.1                                                  | BatchNorm2d             | 128   \n",
      "5   | encoder.encoder.2                                                  | ReLU                    | 0     \n",
      "6   | encoder.encoder.3                                                  | MaxPool2d               | 0     \n",
      "7   | encoder.encoder.4                                                  | Sequential              | 147 K \n",
      "8   | encoder.encoder.4.0                                                | BasicBlock              | 73 K  \n",
      "9   | encoder.encoder.4.0.conv1                                          | Conv2d                  | 36 K  \n",
      "10  | encoder.encoder.4.0.bn1                                            | BatchNorm2d             | 128   \n",
      "11  | encoder.encoder.4.0.relu                                           | ReLU                    | 0     \n",
      "12  | encoder.encoder.4.0.conv2                                          | Conv2d                  | 36 K  \n",
      "13  | encoder.encoder.4.0.bn2                                            | BatchNorm2d             | 128   \n",
      "14  | encoder.encoder.4.1                                                | BasicBlock              | 73 K  \n",
      "15  | encoder.encoder.4.1.conv1                                          | Conv2d                  | 36 K  \n",
      "16  | encoder.encoder.4.1.bn1                                            | BatchNorm2d             | 128   \n",
      "17  | encoder.encoder.4.1.relu                                           | ReLU                    | 0     \n",
      "18  | encoder.encoder.4.1.conv2                                          | Conv2d                  | 36 K  \n",
      "19  | encoder.encoder.4.1.bn2                                            | BatchNorm2d             | 128   \n",
      "20  | encoder.encoder.5                                                  | Sequential              | 525 K \n",
      "21  | encoder.encoder.5.0                                                | BasicBlock              | 230 K \n",
      "22  | encoder.encoder.5.0.conv1                                          | Conv2d                  | 73 K  \n",
      "23  | encoder.encoder.5.0.bn1                                            | BatchNorm2d             | 256   \n",
      "24  | encoder.encoder.5.0.relu                                           | ReLU                    | 0     \n",
      "25  | encoder.encoder.5.0.conv2                                          | Conv2d                  | 147 K \n",
      "26  | encoder.encoder.5.0.bn2                                            | BatchNorm2d             | 256   \n",
      "27  | encoder.encoder.5.0.downsample                                     | Sequential              | 8 K   \n",
      "28  | encoder.encoder.5.0.downsample.0                                   | Conv2d                  | 8 K   \n",
      "29  | encoder.encoder.5.0.downsample.1                                   | BatchNorm2d             | 256   \n",
      "30  | encoder.encoder.5.1                                                | BasicBlock              | 295 K \n",
      "31  | encoder.encoder.5.1.conv1                                          | Conv2d                  | 147 K \n",
      "32  | encoder.encoder.5.1.bn1                                            | BatchNorm2d             | 256   \n",
      "33  | encoder.encoder.5.1.relu                                           | ReLU                    | 0     \n",
      "34  | encoder.encoder.5.1.conv2                                          | Conv2d                  | 147 K \n",
      "35  | encoder.encoder.5.1.bn2                                            | BatchNorm2d             | 256   \n",
      "36  | encoder.encoder.6                                                  | Sequential              | 2 M   \n",
      "37  | encoder.encoder.6.0                                                | BasicBlock              | 919 K \n",
      "38  | encoder.encoder.6.0.conv1                                          | Conv2d                  | 294 K \n",
      "39  | encoder.encoder.6.0.bn1                                            | BatchNorm2d             | 512   \n",
      "40  | encoder.encoder.6.0.relu                                           | ReLU                    | 0     \n",
      "41  | encoder.encoder.6.0.conv2                                          | Conv2d                  | 589 K \n",
      "42  | encoder.encoder.6.0.bn2                                            | BatchNorm2d             | 512   \n",
      "43  | encoder.encoder.6.0.downsample                                     | Sequential              | 33 K  \n",
      "44  | encoder.encoder.6.0.downsample.0                                   | Conv2d                  | 32 K  \n",
      "45  | encoder.encoder.6.0.downsample.1                                   | BatchNorm2d             | 512   \n",
      "46  | encoder.encoder.6.1                                                | BasicBlock              | 1 M   \n",
      "47  | encoder.encoder.6.1.conv1                                          | Conv2d                  | 589 K \n",
      "48  | encoder.encoder.6.1.bn1                                            | BatchNorm2d             | 512   \n",
      "49  | encoder.encoder.6.1.relu                                           | ReLU                    | 0     \n",
      "50  | encoder.encoder.6.1.conv2                                          | Conv2d                  | 589 K \n",
      "51  | encoder.encoder.6.1.bn2                                            | BatchNorm2d             | 512   \n",
      "52  | encoder.encoder.7                                                  | Sequential              | 8 M   \n",
      "53  | encoder.encoder.7.0                                                | BasicBlock              | 3 M   \n",
      "54  | encoder.encoder.7.0.conv1                                          | Conv2d                  | 1 M   \n",
      "55  | encoder.encoder.7.0.bn1                                            | BatchNorm2d             | 1 K   \n",
      "56  | encoder.encoder.7.0.relu                                           | ReLU                    | 0     \n",
      "57  | encoder.encoder.7.0.conv2                                          | Conv2d                  | 2 M   \n",
      "58  | encoder.encoder.7.0.bn2                                            | BatchNorm2d             | 1 K   \n",
      "59  | encoder.encoder.7.0.downsample                                     | Sequential              | 132 K \n",
      "60  | encoder.encoder.7.0.downsample.0                                   | Conv2d                  | 131 K \n",
      "61  | encoder.encoder.7.0.downsample.1                                   | BatchNorm2d             | 1 K   \n",
      "62  | encoder.encoder.7.1                                                | BasicBlock              | 4 M   \n",
      "63  | encoder.encoder.7.1.conv1                                          | Conv2d                  | 2 M   \n",
      "64  | encoder.encoder.7.1.bn1                                            | BatchNorm2d             | 1 K   \n",
      "65  | encoder.encoder.7.1.relu                                           | ReLU                    | 0     \n",
      "66  | encoder.encoder.7.1.conv2                                          | Conv2d                  | 2 M   \n",
      "67  | encoder.encoder.7.1.bn2                                            | BatchNorm2d             | 1 K   \n",
      "68  | transformers                                                       | TransformerProjectLayer | 13 M  \n",
      "69  | transformers.downsample                                            | Conv2d                  | 262 K \n",
      "70  | transformers.activation                                            | Mish                    | 0     \n",
      "71  | transformers.bn                                                    | BatchNorm2d             | 1 K   \n",
      "72  | transformers.transformers                                          | Transformers            | 12 M  \n",
      "73  | transformers.transformers.position_encoding                        | PositionEmbedding       | 18 K  \n",
      "74  | transformers.transformers.position_encoding.embed                  | Embedding               | 18 K  \n",
      "75  | transformers.transformers.encoder                                  | TransformersBlock       | 12 M  \n",
      "76  | transformers.transformers.encoder.layers                           | ModuleList              | 12 M  \n",
      "77  | transformers.transformers.encoder.layers.0                         | TransformerLayer        | 2 M   \n",
      "78  | transformers.transformers.encoder.layers.0.self_attention          | MultiheadAttention      | 1 M   \n",
      "79  | transformers.transformers.encoder.layers.0.self_attention.out_proj | Linear                  | 262 K \n",
      "80  | transformers.transformers.encoder.layers.0.linear1                 | Linear                  | 525 K \n",
      "81  | transformers.transformers.encoder.layers.0.linear2                 | Linear                  | 524 K \n",
      "82  | transformers.transformers.encoder.layers.0.norm1                   | LayerNorm               | 1 K   \n",
      "83  | transformers.transformers.encoder.layers.0.norm2                   | LayerNorm               | 1 K   \n",
      "84  | transformers.transformers.encoder.layers.0.dropout                 | Dropout                 | 0     \n",
      "85  | transformers.transformers.encoder.layers.0.activation              | ReLU                    | 0     \n",
      "86  | transformers.transformers.encoder.layers.1                         | TransformerLayer        | 2 M   \n",
      "87  | transformers.transformers.encoder.layers.1.self_attention          | MultiheadAttention      | 1 M   \n",
      "88  | transformers.transformers.encoder.layers.1.self_attention.out_proj | Linear                  | 262 K \n",
      "89  | transformers.transformers.encoder.layers.1.linear1                 | Linear                  | 525 K \n",
      "90  | transformers.transformers.encoder.layers.1.linear2                 | Linear                  | 524 K \n",
      "91  | transformers.transformers.encoder.layers.1.norm1                   | LayerNorm               | 1 K   \n",
      "92  | transformers.transformers.encoder.layers.1.norm2                   | LayerNorm               | 1 K   \n",
      "93  | transformers.transformers.encoder.layers.1.dropout                 | Dropout                 | 0     \n",
      "94  | transformers.transformers.encoder.layers.1.activation              | ReLU                    | 0     \n",
      "95  | transformers.transformers.encoder.layers.2                         | TransformerLayer        | 2 M   \n",
      "96  | transformers.transformers.encoder.layers.2.self_attention          | MultiheadAttention      | 1 M   \n",
      "97  | transformers.transformers.encoder.layers.2.self_attention.out_proj | Linear                  | 262 K \n",
      "98  | transformers.transformers.encoder.layers.2.linear1                 | Linear                  | 525 K \n",
      "99  | transformers.transformers.encoder.layers.2.linear2                 | Linear                  | 524 K \n",
      "100 | transformers.transformers.encoder.layers.2.norm1                   | LayerNorm               | 1 K   \n",
      "101 | transformers.transformers.encoder.layers.2.norm2                   | LayerNorm               | 1 K   \n",
      "102 | transformers.transformers.encoder.layers.2.dropout                 | Dropout                 | 0     \n",
      "103 | transformers.transformers.encoder.layers.2.activation              | ReLU                    | 0     \n",
      "104 | transformers.transformers.encoder.layers.3                         | TransformerLayer        | 2 M   \n",
      "105 | transformers.transformers.encoder.layers.3.self_attention          | MultiheadAttention      | 1 M   \n",
      "106 | transformers.transformers.encoder.layers.3.self_attention.out_proj | Linear                  | 262 K \n",
      "107 | transformers.transformers.encoder.layers.3.linear1                 | Linear                  | 525 K \n",
      "108 | transformers.transformers.encoder.layers.3.linear2                 | Linear                  | 524 K \n",
      "109 | transformers.transformers.encoder.layers.3.norm1                   | LayerNorm               | 1 K   \n",
      "110 | transformers.transformers.encoder.layers.3.norm2                   | LayerNorm               | 1 K   \n",
      "111 | transformers.transformers.encoder.layers.3.dropout                 | Dropout                 | 0     \n",
      "112 | transformers.transformers.encoder.layers.3.activation              | ReLU                    | 0     \n",
      "113 | transformers.transformers.encoder.layers.4                         | TransformerLayer        | 2 M   \n",
      "114 | transformers.transformers.encoder.layers.4.self_attention          | MultiheadAttention      | 1 M   \n",
      "115 | transformers.transformers.encoder.layers.4.self_attention.out_proj | Linear                  | 262 K \n",
      "116 | transformers.transformers.encoder.layers.4.linear1                 | Linear                  | 525 K \n",
      "117 | transformers.transformers.encoder.layers.4.linear2                 | Linear                  | 524 K \n",
      "118 | transformers.transformers.encoder.layers.4.norm1                   | LayerNorm               | 1 K   \n",
      "119 | transformers.transformers.encoder.layers.4.norm2                   | LayerNorm               | 1 K   \n",
      "120 | transformers.transformers.encoder.layers.4.dropout                 | Dropout                 | 0     \n",
      "121 | transformers.transformers.encoder.layers.4.activation              | ReLU                    | 0     \n",
      "122 | transformers.transformers.encoder.layers.5                         | TransformerLayer        | 2 M   \n",
      "123 | transformers.transformers.encoder.layers.5.self_attention          | MultiheadAttention      | 1 M   \n",
      "124 | transformers.transformers.encoder.layers.5.self_attention.out_proj | Linear                  | 262 K \n",
      "125 | transformers.transformers.encoder.layers.5.linear1                 | Linear                  | 525 K \n",
      "126 | transformers.transformers.encoder.layers.5.linear2                 | Linear                  | 524 K \n",
      "127 | transformers.transformers.encoder.layers.5.norm1                   | LayerNorm               | 1 K   \n",
      "128 | transformers.transformers.encoder.layers.5.norm2                   | LayerNorm               | 1 K   \n",
      "129 | transformers.transformers.encoder.layers.5.dropout                 | Dropout                 | 0     \n",
      "130 | transformers.transformers.encoder.layers.5.activation              | ReLU                    | 0     \n",
      "131 | transformers.head                                                  | Sequential              | 262 K \n",
      "132 | transformers.head.0                                                | Linear                  | 262 K \n",
      "133 | transformers.head.1                                                | Mish                    | 0     \n",
      "134 | transformers.head.2                                                | BatchNorm1d             | 72    \n",
      "135 | transformers.head.3                                                | Dropout                 | 0     \n",
      "136 | transformers.learned_mean                                          | Sequential              | 513   \n",
      "137 | transformers.learned_mean.0                                        | Linear                  | 513   \n",
      "138 | transformers.learned_mean.1                                        | Flatten                 | 0     \n",
      "139 | transformers.learned_mean.2                                        | Softmax                 | 0     \n",
      "140 | transformers.prob_layer                                            | Linear                  | 2 K   \n"
     ]
    },
    {
     "data": {
      "application/vnd.jupyter.widget-view+json": {
       "model_id": "61e80539479b454dbc0ee9feee0ce26c",
       "version_major": 2,
       "version_minor": 0
      },
      "text/plain": [
       "HBox(children=(FloatProgress(value=0.0, description='Finding best initial lr', max=200.0, style=ProgressStyle(…"
      ]
     },
     "metadata": {},
     "output_type": "display_data"
    }
   ],
   "source": [
    "lr_finder = trainer.lr_find(model, min_lr = 1e-8, max_lr = 5., num_training = 200)"
   ]
  },
  {
   "cell_type": "code",
   "execution_count": 9,
   "metadata": {},
   "outputs": [
    {
     "data": {
      "image/png": "[encoded data removed]",
      "text/plain": [
       "<Figure size 432x288 with 1 Axes>"
      ]
     },
     "metadata": {
      "needs_background": "light"
     },
     "output_type": "display_data"
    }
   ],
   "source": [
    "fig = lr_finder.plot(suggest = True)"
   ]
  },
  {
   "cell_type": "code",
   "execution_count": 10,
   "metadata": {},
   "outputs": [
    {
     "data": {
      "text/plain": [
       "SGD (\n",
       "Parameter Group 0\n",
       "    base_momentum: 0.85\n",
       "    dampening: 0\n",
       "    initial_lr: 0.0008\n",
       "    lr: 0.019999999517965248\n",
       "    max_lr: 0.02\n",
       "    max_momentum: 0.9\n",
       "    min_lr: 8e-06\n",
       "    momentum: 0.8500000012055691\n",
       "    nesterov: False\n",
       "    weight_decay: 5e-05\n",
       ")"
      ]
     },
     "execution_count": 10,
     "metadata": {},
     "output_type": "execute_result"
    }
   ],
   "source": [
    "model.max_lr = 2e-2\n",
    "model.current_epoch = 0\n",
    "model.configure_optimizers()"
   ]
  },
  {
   "cell_type": "markdown",
   "metadata": {},
   "source": [
    "## Start to train"
   ]
  },
  {
   "cell_type": "code",
   "execution_count": 11,
   "metadata": {},
   "outputs": [
    {
     "name": "stderr",
     "output_type": "stream",
     "text": [
      "INFO:lightning:\n",
      "    | Name                                                               | Type                    | Params\n",
      "-----------------------------------------------------------------------------------------------------------\n",
      "0   | loss_func                                                          | BCELoss                 | 0     \n",
      "1   | encoder                                                            | ResNetModel             | 11 M  \n",
      "2   | encoder.encoder                                                    | Sequential              | 11 M  \n",
      "3   | encoder.encoder.0                                                  | Conv2d                  | 9 K   \n",
      "4   | encoder.encoder.1                                                  | BatchNorm2d             | 128   \n",
      "5   | encoder.encoder.2                                                  | ReLU                    | 0     \n",
      "6   | encoder.encoder.3                                                  | MaxPool2d               | 0     \n",
      "7   | encoder.encoder.4                                                  | Sequential              | 147 K \n",
      "8   | encoder.encoder.4.0                                                | BasicBlock              | 73 K  \n",
      "9   | encoder.encoder.4.0.conv1                                          | Conv2d                  | 36 K  \n",
      "10  | encoder.encoder.4.0.bn1                                            | BatchNorm2d             | 128   \n",
      "11  | encoder.encoder.4.0.relu                                           | ReLU                    | 0     \n",
      "12  | encoder.encoder.4.0.conv2                                          | Conv2d                  | 36 K  \n",
      "13  | encoder.encoder.4.0.bn2                                            | BatchNorm2d             | 128   \n",
      "14  | encoder.encoder.4.1                                                | BasicBlock              | 73 K  \n",
      "15  | encoder.encoder.4.1.conv1                                          | Conv2d                  | 36 K  \n",
      "16  | encoder.encoder.4.1.bn1                                            | BatchNorm2d             | 128   \n",
      "17  | encoder.encoder.4.1.relu                                           | ReLU                    | 0     \n",
      "18  | encoder.encoder.4.1.conv2                                          | Conv2d                  | 36 K  \n",
      "19  | encoder.encoder.4.1.bn2                                            | BatchNorm2d             | 128   \n",
      "20  | encoder.encoder.5                                                  | Sequential              | 525 K \n",
      "21  | encoder.encoder.5.0                                                | BasicBlock              | 230 K \n",
      "22  | encoder.encoder.5.0.conv1                                          | Conv2d                  | 73 K  \n",
      "23  | encoder.encoder.5.0.bn1                                            | BatchNorm2d             | 256   \n",
      "24  | encoder.encoder.5.0.relu                                           | ReLU                    | 0     \n",
      "25  | encoder.encoder.5.0.conv2                                          | Conv2d                  | 147 K \n",
      "26  | encoder.encoder.5.0.bn2                                            | BatchNorm2d             | 256   \n",
      "27  | encoder.encoder.5.0.downsample                                     | Sequential              | 8 K   \n",
      "28  | encoder.encoder.5.0.downsample.0                                   | Conv2d                  | 8 K   \n",
      "29  | encoder.encoder.5.0.downsample.1                                   | BatchNorm2d             | 256   \n",
      "30  | encoder.encoder.5.1                                                | BasicBlock              | 295 K \n",
      "31  | encoder.encoder.5.1.conv1                                          | Conv2d                  | 147 K \n",
      "32  | encoder.encoder.5.1.bn1                                            | BatchNorm2d             | 256   \n",
      "33  | encoder.encoder.5.1.relu                                           | ReLU                    | 0     \n",
      "34  | encoder.encoder.5.1.conv2                                          | Conv2d                  | 147 K \n",
      "35  | encoder.encoder.5.1.bn2                                            | BatchNorm2d             | 256   \n",
      "36  | encoder.encoder.6                                                  | Sequential              | 2 M   \n",
      "37  | encoder.encoder.6.0                                                | BasicBlock              | 919 K \n",
      "38  | encoder.encoder.6.0.conv1                                          | Conv2d                  | 294 K \n",
      "39  | encoder.encoder.6.0.bn1                                            | BatchNorm2d             | 512   \n",
      "40  | encoder.encoder.6.0.relu                                           | ReLU                    | 0     \n",
      "41  | encoder.encoder.6.0.conv2                                          | Conv2d                  | 589 K \n",
      "42  | encoder.encoder.6.0.bn2                                            | BatchNorm2d             | 512   \n",
      "43  | encoder.encoder.6.0.downsample                                     | Sequential              | 33 K  \n",
      "44  | encoder.encoder.6.0.downsample.0                                   | Conv2d                  | 32 K  \n",
      "45  | encoder.encoder.6.0.downsample.1                                   | BatchNorm2d             | 512   \n",
      "46  | encoder.encoder.6.1                                                | BasicBlock              | 1 M   \n",
      "47  | encoder.encoder.6.1.conv1                                          | Conv2d                  | 589 K \n",
      "48  | encoder.encoder.6.1.bn1                                            | BatchNorm2d             | 512   \n",
      "49  | encoder.encoder.6.1.relu                                           | ReLU                    | 0     \n",
      "50  | encoder.encoder.6.1.conv2                                          | Conv2d                  | 589 K \n",
      "51  | encoder.encoder.6.1.bn2                                            | BatchNorm2d             | 512   \n",
      "52  | encoder.encoder.7                                                  | Sequential              | 8 M   \n",
      "53  | encoder.encoder.7.0                                                | BasicBlock              | 3 M   \n",
      "54  | encoder.encoder.7.0.conv1                                          | Conv2d                  | 1 M   \n",
      "55  | encoder.encoder.7.0.bn1                                            | BatchNorm2d             | 1 K   \n",
      "56  | encoder.encoder.7.0.relu                                           | ReLU                    | 0     \n",
      "57  | encoder.encoder.7.0.conv2                                          | Conv2d                  | 2 M   \n",
      "58  | encoder.encoder.7.0.bn2                                            | BatchNorm2d             | 1 K   \n",
      "59  | encoder.encoder.7.0.downsample                                     | Sequential              | 132 K \n",
      "60  | encoder.encoder.7.0.downsample.0                                   | Conv2d                  | 131 K \n",
      "61  | encoder.encoder.7.0.downsample.1                                   | BatchNorm2d             | 1 K   \n",
      "62  | encoder.encoder.7.1                                                | BasicBlock              | 4 M   \n",
      "63  | encoder.encoder.7.1.conv1                                          | Conv2d                  | 2 M   \n",
      "64  | encoder.encoder.7.1.bn1                                            | BatchNorm2d             | 1 K   \n",
      "65  | encoder.encoder.7.1.relu                                           | ReLU                    | 0     \n",
      "66  | encoder.encoder.7.1.conv2                                          | Conv2d                  | 2 M   \n",
      "67  | encoder.encoder.7.1.bn2                                            | BatchNorm2d             | 1 K   \n",
      "68  | transformers                                                       | TransformerProjectLayer | 13 M  \n",
      "69  | transformers.downsample                                            | Conv2d                  | 262 K \n",
      "70  | transformers.activation                                            | Mish                    | 0     \n",
      "71  | transformers.bn                                                    | BatchNorm2d             | 1 K   \n",
      "72  | transformers.transformers                                          | Transformers            | 12 M  \n",
      "73  | transformers.transformers.position_encoding                        | PositionEmbedding       | 18 K  \n",
      "74  | transformers.transformers.position_encoding.embed                  | Embedding               | 18 K  \n",
      "75  | transformers.transformers.encoder                                  | TransformersBlock       | 12 M  \n",
      "76  | transformers.transformers.encoder.layers                           | ModuleList              | 12 M  \n",
      "77  | transformers.transformers.encoder.layers.0                         | TransformerLayer        | 2 M   \n",
      "78  | transformers.transformers.encoder.layers.0.self_attention          | MultiheadAttention      | 1 M   \n",
      "79  | transformers.transformers.encoder.layers.0.self_attention.out_proj | Linear                  | 262 K \n",
      "80  | transformers.transformers.encoder.layers.0.linear1                 | Linear                  | 525 K \n",
      "81  | transformers.transformers.encoder.layers.0.linear2                 | Linear                  | 524 K \n",
      "82  | transformers.transformers.encoder.layers.0.norm1                   | LayerNorm               | 1 K   \n",
      "83  | transformers.transformers.encoder.layers.0.norm2                   | LayerNorm               | 1 K   \n",
      "84  | transformers.transformers.encoder.layers.0.dropout                 | Dropout                 | 0     \n",
      "85  | transformers.transformers.encoder.layers.0.activation              | ReLU                    | 0     \n",
      "86  | transformers.transformers.encoder.layers.1                         | TransformerLayer        | 2 M   \n",
      "87  | transformers.transformers.encoder.layers.1.self_attention          | MultiheadAttention      | 1 M   \n",
      "88  | transformers.transformers.encoder.layers.1.self_attention.out_proj | Linear                  | 262 K \n",
      "89  | transformers.transformers.encoder.layers.1.linear1                 | Linear                  | 525 K \n",
      "90  | transformers.transformers.encoder.layers.1.linear2                 | Linear                  | 524 K \n",
      "91  | transformers.transformers.encoder.layers.1.norm1                   | LayerNorm               | 1 K   \n",
      "92  | transformers.transformers.encoder.layers.1.norm2                   | LayerNorm               | 1 K   \n",
      "93  | transformers.transformers.encoder.layers.1.dropout                 | Dropout                 | 0     \n",
      "94  | transformers.transformers.encoder.layers.1.activation              | ReLU                    | 0     \n",
      "95  | transformers.transformers.encoder.layers.2                         | TransformerLayer        | 2 M   \n",
      "96  | transformers.transformers.encoder.layers.2.self_attention          | MultiheadAttention      | 1 M   \n",
      "97  | transformers.transformers.encoder.layers.2.self_attention.out_proj | Linear                  | 262 K \n",
      "98  | transformers.transformers.encoder.layers.2.linear1                 | Linear                  | 525 K \n",
      "99  | transformers.transformers.encoder.layers.2.linear2                 | Linear                  | 524 K \n",
      "100 | transformers.transformers.encoder.layers.2.norm1                   | LayerNorm               | 1 K   \n",
      "101 | transformers.transformers.encoder.layers.2.norm2                   | LayerNorm               | 1 K   \n",
      "102 | transformers.transformers.encoder.layers.2.dropout                 | Dropout                 | 0     \n",
      "103 | transformers.transformers.encoder.layers.2.activation              | ReLU                    | 0     \n",
      "104 | transformers.transformers.encoder.layers.3                         | TransformerLayer        | 2 M   \n",
      "105 | transformers.transformers.encoder.layers.3.self_attention          | MultiheadAttention      | 1 M   \n",
      "106 | transformers.transformers.encoder.layers.3.self_attention.out_proj | Linear                  | 262 K \n",
      "107 | transformers.transformers.encoder.layers.3.linear1                 | Linear                  | 525 K \n",
      "108 | transformers.transformers.encoder.layers.3.linear2                 | Linear                  | 524 K \n",
      "109 | transformers.transformers.encoder.layers.3.norm1                   | LayerNorm               | 1 K   \n",
      "110 | transformers.transformers.encoder.layers.3.norm2                   | LayerNorm               | 1 K   \n",
      "111 | transformers.transformers.encoder.layers.3.dropout                 | Dropout                 | 0     \n",
      "112 | transformers.transformers.encoder.layers.3.activation              | ReLU                    | 0     \n",
      "113 | transformers.transformers.encoder.layers.4                         | TransformerLayer        | 2 M   \n",
      "114 | transformers.transformers.encoder.layers.4.self_attention          | MultiheadAttention      | 1 M   \n",
      "115 | transformers.transformers.encoder.layers.4.self_attention.out_proj | Linear                  | 262 K \n",
      "116 | transformers.transformers.encoder.layers.4.linear1                 | Linear                  | 525 K \n",
      "117 | transformers.transformers.encoder.layers.4.linear2                 | Linear                  | 524 K \n",
      "118 | transformers.transformers.encoder.layers.4.norm1                   | LayerNorm               | 1 K   \n",
      "119 | transformers.transformers.encoder.layers.4.norm2                   | LayerNorm               | 1 K   \n",
      "120 | transformers.transformers.encoder.layers.4.dropout                 | Dropout                 | 0     \n",
      "121 | transformers.transformers.encoder.layers.4.activation              | ReLU                    | 0     \n",
      "122 | transformers.transformers.encoder.layers.5                         | TransformerLayer        | 2 M   \n",
      "123 | transformers.transformers.encoder.layers.5.self_attention          | MultiheadAttention      | 1 M   \n",
      "124 | transformers.transformers.encoder.layers.5.self_attention.out_proj | Linear                  | 262 K \n",
      "125 | transformers.transformers.encoder.layers.5.linear1                 | Linear                  | 525 K \n",
      "126 | transformers.transformers.encoder.layers.5.linear2                 | Linear                  | 524 K \n",
      "127 | transformers.transformers.encoder.layers.5.norm1                   | LayerNorm               | 1 K   \n",
      "128 | transformers.transformers.encoder.layers.5.norm2                   | LayerNorm               | 1 K   \n",
      "129 | transformers.transformers.encoder.layers.5.dropout                 | Dropout                 | 0     \n",
      "130 | transformers.transformers.encoder.layers.5.activation              | ReLU                    | 0     \n",
      "131 | transformers.head                                                  | Sequential              | 262 K \n",
      "132 | transformers.head.0                                                | Linear                  | 262 K \n",
      "133 | transformers.head.1                                                | Mish                    | 0     \n",
      "134 | transformers.head.2                                                | BatchNorm1d             | 72    \n",
      "135 | transformers.head.3                                                | Dropout                 | 0     \n",
      "136 | transformers.learned_mean                                          | Sequential              | 513   \n",
      "137 | transformers.learned_mean.0                                        | Linear                  | 513   \n",
      "138 | transformers.learned_mean.1                                        | Flatten                 | 0     \n",
      "139 | transformers.learned_mean.2                                        | Softmax                 | 0     \n",
      "140 | transformers.prob_layer                                            | Linear                  | 2 K   \n"
     ]
    },
    {
     "data": {
      "application/vnd.jupyter.widget-view+json": {
       "model_id": "21833447cd48412db18ee2ad8cd0ff9d",
       "version_major": 2,
       "version_minor": 0
      },
      "text/plain": [
       "HBox(children=(FloatProgress(value=1.0, bar_style='info', description='Training', layout=Layout(flex='2'), max…"
      ]
     },
     "metadata": {},
     "output_type": "display_data"
    },
    {
     "name": "stderr",
     "output_type": "stream",
     "text": [
      "INFO:lightning:Detected KeyboardInterrupt, attempting graceful shutdown...\n"
     ]
    },
    {
     "name": "stdout",
     "output_type": "stream",
     "text": [
      "\n"
     ]
    },
    {
     "data": {
      "text/plain": [
       "1"
      ]
     },
     "execution_count": 11,
     "metadata": {},
     "output_type": "execute_result"
    }
   ],
   "source": [
    "trainer.fit(model)"
   ]
  },
  {
   "cell_type": "code",
   "execution_count": null,
   "metadata": {},
   "outputs": [],
   "source": []
  }
 ],
 "metadata": {
  "kernelspec": {
   "display_name": "Python 3",
   "language": "python",
   "name": "python3"
  },
  "language_info": {
   "codemirror_mode": {
    "name": "ipython",
    "version": 3
   },
   "file_extension": ".py",
   "mimetype": "text/x-python",
   "name": "python",
   "nbconvert_exporter": "python",
   "pygments_lexer": "ipython3",
   "version": "3.8.2"
  }
 },
 "nbformat": 4,
 "nbformat_minor": 4
}
